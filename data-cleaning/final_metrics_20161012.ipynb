{
 "cells": [
  {
   "cell_type": "markdown",
   "metadata": {},
   "source": [
    "### Metrics of Interest\n",
    "\n",
    "- Sidewalk damage (‘HARDSCAPE’ in dataset)\n",
    "- Density of trees\n",
    "- Vacant lots\n",
    "- Species diversity\n",
    "- Health of trees\n"
   ]
  },
  {
   "cell_type": "code",
   "execution_count": 56,
   "metadata": {
    "collapsed": true
   },
   "outputs": [],
   "source": [
    "%matplotlib inline\n",
    "\n",
    "import pandas as pd\n",
    "import numpy as np"
   ]
  },
  {
   "cell_type": "code",
   "execution_count": 57,
   "metadata": {
    "collapsed": false
   },
   "outputs": [
    {
     "ename": "IOError",
     "evalue": "File ../data/combined_tree_data_with_header_with_derived_neighborhood.csv does not exist",
     "output_type": "error",
     "traceback": [
      "\u001b[0;31m---------------------------------------------------------------------------\u001b[0m",
      "\u001b[0;31mIOError\u001b[0m                                   Traceback (most recent call last)",
      "\u001b[0;32m<ipython-input-57-7d5d023d0935>\u001b[0m in \u001b[0;36m<module>\u001b[0;34m()\u001b[0m\n\u001b[1;32m      1\u001b[0m \u001b[0;31m# read in data\u001b[0m\u001b[0;34m\u001b[0m\u001b[0;34m\u001b[0m\u001b[0m\n\u001b[0;32m----> 2\u001b[0;31m \u001b[0mfuf\u001b[0m \u001b[0;34m=\u001b[0m \u001b[0mpd\u001b[0m\u001b[0;34m.\u001b[0m\u001b[0mread_csv\u001b[0m\u001b[0;34m(\u001b[0m\u001b[0;34m'../data/combined_tree_data_with_header_with_derived_neighborhood.csv'\u001b[0m\u001b[0;34m)\u001b[0m\u001b[0;34m.\u001b[0m\u001b[0mfillna\u001b[0m\u001b[0;34m(\u001b[0m\u001b[0;34m''\u001b[0m\u001b[0;34m)\u001b[0m\u001b[0;34m\u001b[0m\u001b[0m\n\u001b[0m\u001b[1;32m      3\u001b[0m \u001b[0mfuf\u001b[0m \u001b[0;34m=\u001b[0m \u001b[0mfuf\u001b[0m\u001b[0;34m.\u001b[0m\u001b[0mrename\u001b[0m\u001b[0;34m(\u001b[0m\u001b[0mcolumns\u001b[0m\u001b[0;34m=\u001b[0m\u001b[0;34m{\u001b[0m\u001b[0;34m'derived_neighborhood'\u001b[0m\u001b[0;34m:\u001b[0m\u001b[0;34m'neighborhood'\u001b[0m\u001b[0;34m}\u001b[0m\u001b[0;34m)\u001b[0m\u001b[0;34m\u001b[0m\u001b[0m\n",
      "\u001b[0;32m/Users/spencer/Documents/Personal/datasci-street-tree-viz/venv/lib/python2.7/site-packages/pandas/io/parsers.pyc\u001b[0m in \u001b[0;36mparser_f\u001b[0;34m(filepath_or_buffer, sep, delimiter, header, names, index_col, usecols, squeeze, prefix, mangle_dupe_cols, dtype, engine, converters, true_values, false_values, skipinitialspace, skiprows, skipfooter, nrows, na_values, keep_default_na, na_filter, verbose, skip_blank_lines, parse_dates, infer_datetime_format, keep_date_col, date_parser, dayfirst, iterator, chunksize, compression, thousands, decimal, lineterminator, quotechar, quoting, escapechar, comment, encoding, dialect, tupleize_cols, error_bad_lines, warn_bad_lines, skip_footer, doublequote, delim_whitespace, as_recarray, compact_ints, use_unsigned, low_memory, buffer_lines, memory_map, float_precision)\u001b[0m\n\u001b[1;32m    560\u001b[0m                     skip_blank_lines=skip_blank_lines)\n\u001b[1;32m    561\u001b[0m \u001b[0;34m\u001b[0m\u001b[0m\n\u001b[0;32m--> 562\u001b[0;31m         \u001b[0;32mreturn\u001b[0m \u001b[0m_read\u001b[0m\u001b[0;34m(\u001b[0m\u001b[0mfilepath_or_buffer\u001b[0m\u001b[0;34m,\u001b[0m \u001b[0mkwds\u001b[0m\u001b[0;34m)\u001b[0m\u001b[0;34m\u001b[0m\u001b[0m\n\u001b[0m\u001b[1;32m    563\u001b[0m \u001b[0;34m\u001b[0m\u001b[0m\n\u001b[1;32m    564\u001b[0m     \u001b[0mparser_f\u001b[0m\u001b[0;34m.\u001b[0m\u001b[0m__name__\u001b[0m \u001b[0;34m=\u001b[0m \u001b[0mname\u001b[0m\u001b[0;34m\u001b[0m\u001b[0m\n",
      "\u001b[0;32m/Users/spencer/Documents/Personal/datasci-street-tree-viz/venv/lib/python2.7/site-packages/pandas/io/parsers.pyc\u001b[0m in \u001b[0;36m_read\u001b[0;34m(filepath_or_buffer, kwds)\u001b[0m\n\u001b[1;32m    313\u001b[0m \u001b[0;34m\u001b[0m\u001b[0m\n\u001b[1;32m    314\u001b[0m     \u001b[0;31m# Create the parser.\u001b[0m\u001b[0;34m\u001b[0m\u001b[0;34m\u001b[0m\u001b[0m\n\u001b[0;32m--> 315\u001b[0;31m     \u001b[0mparser\u001b[0m \u001b[0;34m=\u001b[0m \u001b[0mTextFileReader\u001b[0m\u001b[0;34m(\u001b[0m\u001b[0mfilepath_or_buffer\u001b[0m\u001b[0;34m,\u001b[0m \u001b[0;34m**\u001b[0m\u001b[0mkwds\u001b[0m\u001b[0;34m)\u001b[0m\u001b[0;34m\u001b[0m\u001b[0m\n\u001b[0m\u001b[1;32m    316\u001b[0m \u001b[0;34m\u001b[0m\u001b[0m\n\u001b[1;32m    317\u001b[0m     \u001b[0;32mif\u001b[0m \u001b[0;34m(\u001b[0m\u001b[0mnrows\u001b[0m \u001b[0;32mis\u001b[0m \u001b[0;32mnot\u001b[0m \u001b[0mNone\u001b[0m\u001b[0;34m)\u001b[0m \u001b[0;32mand\u001b[0m \u001b[0;34m(\u001b[0m\u001b[0mchunksize\u001b[0m \u001b[0;32mis\u001b[0m \u001b[0;32mnot\u001b[0m \u001b[0mNone\u001b[0m\u001b[0;34m)\u001b[0m\u001b[0;34m:\u001b[0m\u001b[0;34m\u001b[0m\u001b[0m\n",
      "\u001b[0;32m/Users/spencer/Documents/Personal/datasci-street-tree-viz/venv/lib/python2.7/site-packages/pandas/io/parsers.pyc\u001b[0m in \u001b[0;36m__init__\u001b[0;34m(self, f, engine, **kwds)\u001b[0m\n\u001b[1;32m    643\u001b[0m             \u001b[0mself\u001b[0m\u001b[0;34m.\u001b[0m\u001b[0moptions\u001b[0m\u001b[0;34m[\u001b[0m\u001b[0;34m'has_index_names'\u001b[0m\u001b[0;34m]\u001b[0m \u001b[0;34m=\u001b[0m \u001b[0mkwds\u001b[0m\u001b[0;34m[\u001b[0m\u001b[0;34m'has_index_names'\u001b[0m\u001b[0;34m]\u001b[0m\u001b[0;34m\u001b[0m\u001b[0m\n\u001b[1;32m    644\u001b[0m \u001b[0;34m\u001b[0m\u001b[0m\n\u001b[0;32m--> 645\u001b[0;31m         \u001b[0mself\u001b[0m\u001b[0;34m.\u001b[0m\u001b[0m_make_engine\u001b[0m\u001b[0;34m(\u001b[0m\u001b[0mself\u001b[0m\u001b[0;34m.\u001b[0m\u001b[0mengine\u001b[0m\u001b[0;34m)\u001b[0m\u001b[0;34m\u001b[0m\u001b[0m\n\u001b[0m\u001b[1;32m    646\u001b[0m \u001b[0;34m\u001b[0m\u001b[0m\n\u001b[1;32m    647\u001b[0m     \u001b[0;32mdef\u001b[0m \u001b[0mclose\u001b[0m\u001b[0;34m(\u001b[0m\u001b[0mself\u001b[0m\u001b[0;34m)\u001b[0m\u001b[0;34m:\u001b[0m\u001b[0;34m\u001b[0m\u001b[0m\n",
      "\u001b[0;32m/Users/spencer/Documents/Personal/datasci-street-tree-viz/venv/lib/python2.7/site-packages/pandas/io/parsers.pyc\u001b[0m in \u001b[0;36m_make_engine\u001b[0;34m(self, engine)\u001b[0m\n\u001b[1;32m    797\u001b[0m     \u001b[0;32mdef\u001b[0m \u001b[0m_make_engine\u001b[0m\u001b[0;34m(\u001b[0m\u001b[0mself\u001b[0m\u001b[0;34m,\u001b[0m \u001b[0mengine\u001b[0m\u001b[0;34m=\u001b[0m\u001b[0;34m'c'\u001b[0m\u001b[0;34m)\u001b[0m\u001b[0;34m:\u001b[0m\u001b[0;34m\u001b[0m\u001b[0m\n\u001b[1;32m    798\u001b[0m         \u001b[0;32mif\u001b[0m \u001b[0mengine\u001b[0m \u001b[0;34m==\u001b[0m \u001b[0;34m'c'\u001b[0m\u001b[0;34m:\u001b[0m\u001b[0;34m\u001b[0m\u001b[0m\n\u001b[0;32m--> 799\u001b[0;31m             \u001b[0mself\u001b[0m\u001b[0;34m.\u001b[0m\u001b[0m_engine\u001b[0m \u001b[0;34m=\u001b[0m \u001b[0mCParserWrapper\u001b[0m\u001b[0;34m(\u001b[0m\u001b[0mself\u001b[0m\u001b[0;34m.\u001b[0m\u001b[0mf\u001b[0m\u001b[0;34m,\u001b[0m \u001b[0;34m**\u001b[0m\u001b[0mself\u001b[0m\u001b[0;34m.\u001b[0m\u001b[0moptions\u001b[0m\u001b[0;34m)\u001b[0m\u001b[0;34m\u001b[0m\u001b[0m\n\u001b[0m\u001b[1;32m    800\u001b[0m         \u001b[0;32melse\u001b[0m\u001b[0;34m:\u001b[0m\u001b[0;34m\u001b[0m\u001b[0m\n\u001b[1;32m    801\u001b[0m             \u001b[0;32mif\u001b[0m \u001b[0mengine\u001b[0m \u001b[0;34m==\u001b[0m \u001b[0;34m'python'\u001b[0m\u001b[0;34m:\u001b[0m\u001b[0;34m\u001b[0m\u001b[0m\n",
      "\u001b[0;32m/Users/spencer/Documents/Personal/datasci-street-tree-viz/venv/lib/python2.7/site-packages/pandas/io/parsers.pyc\u001b[0m in \u001b[0;36m__init__\u001b[0;34m(self, src, **kwds)\u001b[0m\n\u001b[1;32m   1211\u001b[0m         \u001b[0mkwds\u001b[0m\u001b[0;34m[\u001b[0m\u001b[0;34m'allow_leading_cols'\u001b[0m\u001b[0;34m]\u001b[0m \u001b[0;34m=\u001b[0m \u001b[0mself\u001b[0m\u001b[0;34m.\u001b[0m\u001b[0mindex_col\u001b[0m \u001b[0;32mis\u001b[0m \u001b[0;32mnot\u001b[0m \u001b[0mFalse\u001b[0m\u001b[0;34m\u001b[0m\u001b[0m\n\u001b[1;32m   1212\u001b[0m \u001b[0;34m\u001b[0m\u001b[0m\n\u001b[0;32m-> 1213\u001b[0;31m         \u001b[0mself\u001b[0m\u001b[0;34m.\u001b[0m\u001b[0m_reader\u001b[0m \u001b[0;34m=\u001b[0m \u001b[0m_parser\u001b[0m\u001b[0;34m.\u001b[0m\u001b[0mTextReader\u001b[0m\u001b[0;34m(\u001b[0m\u001b[0msrc\u001b[0m\u001b[0;34m,\u001b[0m \u001b[0;34m**\u001b[0m\u001b[0mkwds\u001b[0m\u001b[0;34m)\u001b[0m\u001b[0;34m\u001b[0m\u001b[0m\n\u001b[0m\u001b[1;32m   1214\u001b[0m \u001b[0;34m\u001b[0m\u001b[0m\n\u001b[1;32m   1215\u001b[0m         \u001b[0;31m# XXX\u001b[0m\u001b[0;34m\u001b[0m\u001b[0;34m\u001b[0m\u001b[0m\n",
      "\u001b[0;32mpandas/parser.pyx\u001b[0m in \u001b[0;36mpandas.parser.TextReader.__cinit__ (pandas/parser.c:3427)\u001b[0;34m()\u001b[0m\n",
      "\u001b[0;32mpandas/parser.pyx\u001b[0m in \u001b[0;36mpandas.parser.TextReader._setup_parser_source (pandas/parser.c:6861)\u001b[0;34m()\u001b[0m\n",
      "\u001b[0;31mIOError\u001b[0m: File ../data/combined_tree_data_with_header_with_derived_neighborhood.csv does not exist"
     ]
    }
   ],
   "source": [
    "# read in data \n",
    "fuf = pd.read_csv('../data/combined_tree_data_with_header_with_derived_neighborhood.csv').fillna('')\n",
    "fuf = fuf.rename(columns={'derived_neighborhood':'neighborhood'})"
   ]
  },
  {
   "cell_type": "code",
   "execution_count": null,
   "metadata": {
    "collapsed": false
   },
   "outputs": [],
   "source": [
    "fuf['hardscape_metric'] = fuf['hardscape_damage'].apply(lambda x: 0 if x in ['None', 'No', 'NA'] else 1)\n",
    "fuf['vacant_lot_metric'] = fuf['condition'].apply(lambda x: 0 if x != 'Vacancy' else 1)\n",
    "fuf['condition_metric'] = fuf['condition'].apply(lambda x: 0 if x in ['Poor','Dead', 'Critical'] else 1)\n",
    "fuf['stump_metric'] = fuf['condition'].apply(lambda x: 1 if x in ['Stump', 'Stump Removal'] else 0)\n",
    "grouped = fuf[['hardscape_metric','diameter_at_breast_height','neighborhood',\n",
    "          'vacant_lot_metric', 'condition_metric', 'stump_metric']].groupby('neighborhood').mean().reset_index()\n",
    "joined = pd.merge(fuf, grouped, on='neighborhood', how = 'left', suffixes=('_binary','_perc'))"
   ]
  },
  {
   "cell_type": "markdown",
   "metadata": {},
   "source": [
    "### Sidewalk Damage"
   ]
  },
  {
   "cell_type": "code",
   "execution_count": null,
   "metadata": {
    "collapsed": false
   },
   "outputs": [],
   "source": [
    "fuf.hardscape_damage.value_counts()"
   ]
  },
  {
   "cell_type": "code",
   "execution_count": null,
   "metadata": {
    "collapsed": false
   },
   "outputs": [],
   "source": [
    "fuf['hardscape_metric'] = fuf['hardscape_damage'].apply(lambda x: 0 if x in ['None','No', 'NA'] else 1)\n",
    "\n",
    "hardscape = fuf.groupby('neighborhood')['hardscape_metric'].mean().reset_index()"
   ]
  },
  {
   "cell_type": "markdown",
   "metadata": {},
   "source": [
    "### Diversity"
   ]
  },
  {
   "cell_type": "code",
   "execution_count": null,
   "metadata": {
    "collapsed": false
   },
   "outputs": [],
   "source": [
    "from __future__ import division\n",
    "\n",
    "# when the condition of the tree is bad, the species is reported in a weird way. remove those.\n",
    "bad_condition = ['dead', 'vacancy', 'stump', 'unsuitable site', 'stump removal', 'open']\n",
    "fuf.ix[fuf.scientific_species_name<>'', 'genus'] = fuf[fuf.scientific_species_name<>''].scientific_species_name.apply(lambda x: x.split()[0])\n",
    "diversity = fuf[~fuf.condition.isin(bad_condition)].groupby(['neighborhood', 'genus']).size().reset_index().rename(columns={0:'cnt'})\n",
    "cnts = fuf[~fuf.condition.isin(bad_condition)].groupby(['neighborhood']).size().reset_index().rename(columns={0:'cnt'})\n",
    "\n",
    "diversity = pd.merge(diversity,cnts,on='neighborhood')\n",
    "diversity['pct'] = diversity.apply(lambda x: x.cnt_x/x.cnt_y, axis=1)\n",
    "diversity['not_diverse'] = diversity.pct.apply(lambda x: 1 if x>=.2 else 0)\n",
    "diversity = diversity.groupby('neighborhood').not_diverse.sum().reset_index()"
   ]
  },
  {
   "cell_type": "markdown",
   "metadata": {},
   "source": [
    "### Vacant Lots"
   ]
  },
  {
   "cell_type": "code",
   "execution_count": null,
   "metadata": {
    "collapsed": false
   },
   "outputs": [],
   "source": [
    "fuf['vacant_lot_metric'] = fuf['condition'].apply(lambda x: 0 if x != 'Vacancy' else 1)\n",
    "vacant = fuf.groupby('neighborhood')['vacant_lot_metric'].mean().reset_index()"
   ]
  },
  {
   "cell_type": "markdown",
   "metadata": {},
   "source": [
    "### Health of trees"
   ]
  },
  {
   "cell_type": "code",
   "execution_count": null,
   "metadata": {
    "collapsed": false
   },
   "outputs": [],
   "source": [
    "fuf.condition.value_counts()"
   ]
  },
  {
   "cell_type": "code",
   "execution_count": null,
   "metadata": {
    "collapsed": false
   },
   "outputs": [],
   "source": [
    "#assuming very = very good\n",
    "from collections import defaultdict\n",
    "condition_score = defaultdict(lambda: '' )\n",
    "csd = {\n",
    "    'dead':0,\n",
    "    'critical':1,\n",
    "    'poor':2,\n",
    "    'fair':3,\n",
    "    'good':4,\n",
    "    'very':5,\n",
    "    'very good':5,\n",
    "    'excellent':6\n",
    "}\n",
    "for c in csd:\n",
    "    condition_score[c] = csd[c]"
   ]
  },
  {
   "cell_type": "code",
   "execution_count": null,
   "metadata": {
    "collapsed": false
   },
   "outputs": [],
   "source": [
    "fuf['condition_score'] = fuf.condition.apply(lambda x: condition_score[x.lower().strip()])\n",
    "condition = fuf[fuf.condition_score<>'']\n",
    "condition['condition_score'] = condition.condition_score.astype(int)\n",
    "condition = condition.groupby('neighborhood')['condition_score'].mean().reset_index()"
   ]
  },
  {
   "cell_type": "code",
   "execution_count": null,
   "metadata": {
    "collapsed": false,
    "scrolled": true
   },
   "outputs": [],
   "source": [
    "condition.condition_score.hist()"
   ]
  },
  {
   "cell_type": "code",
   "execution_count": null,
   "metadata": {
    "collapsed": true
   },
   "outputs": [],
   "source": [
    "inv_csd = {v: k for k, v in csd.iteritems()}\n",
    "condition['condition_lable'] = condition.condition_score.apply(lambda x: inv_csd[int(round(x))] if x else x)"
   ]
  },
  {
   "cell_type": "markdown",
   "metadata": {},
   "source": [
    "### Density"
   ]
  },
  {
   "cell_type": "code",
   "execution_count": null,
   "metadata": {
    "collapsed": false
   },
   "outputs": [],
   "source": [
    "#neighborhood areas courtesy of Spencer (units unknown)\n",
    "\n",
    "neighborhood_area = \"\"\"Seacliff, 584559\n",
    "Lake Street, 486588\n",
    "Presidio National Park, 7785081\n",
    "Presidio Terrace, 416901\n",
    "Inner Richmond, 2873215\n",
    "Sutro Heights, 713105\n",
    "Lincoln Park / Ft. Miley, 1575630\n",
    "Outer Richmond, 3745203\n",
    "Golden Gate Park, 5535110\n",
    "Presidio Heights, 728466\n",
    "Laurel Heights / Jordan Park, 739172\n",
    "Lone Mountain, 1030917\n",
    "Anza Vista, 381957\n",
    "Cow Hollow, 500591\n",
    "Union Street, 616335\n",
    "Marina, 1860177\n",
    "Telegraph Hill, 321562\n",
    "Downtown / Union Square, 456142\n",
    "Tenderloin, 677681\n",
    "Civic Center, 667217\n",
    "Hayes Valley, 370172\n",
    "Alamo Square, 313007\n",
    "Panhandle, 722099\n",
    "Haight Ashbury, 427566\n",
    "Lower Haight, 561154\n",
    "Mint Hill, 193861\n",
    "Duboce Triangle, 543148\n",
    "Cole Valley, 234774\n",
    "Rincon Hill, 478124\n",
    "South Beach, 879238\n",
    "South of Market, 3926306\n",
    "Showplace Square, 804205\n",
    "Mission Bay, 2032371\n",
    "Yerba Buena Island, 813945\n",
    "Treasure Island, 2106231\n",
    "Mission Dolores, 1075383\n",
    "Castro, 309558\n",
    "Outer Sunset, 8933628\n",
    "Parkside, 3860649\n",
    "Stonestown, 882009\n",
    "Parkmerced, 1596457\n",
    "Lakeshore, 7973826\n",
    "Golden Gate Heights, 2117466\n",
    "Forest Hill, 650261\n",
    "West Portal, 917441\n",
    "Clarendon Heights, 689473\n",
    "Midtown Terrace, 696602\n",
    "Laguna Honda, 1086186\n",
    "Upper Market, 685945\n",
    "Dolores Heights, 1181255\n",
    "Mission, 3947711\n",
    "Potrero Hill, 2971407\n",
    "Dogpatch, 537768\n",
    "Central Waterfront, 3297821\n",
    "Diamond Heights, 804222\n",
    "Fairmount, 747602\n",
    "Peralta Heights, 383378\n",
    "Holly Park, 568742\n",
    "Merced Manor, 732556\n",
    "Balboa Terrace, 351418\n",
    "Ingleside, 1199810\n",
    "Merced Heights, 960282\n",
    "Outer Mission, 992289\n",
    "Ingleside Terraces, 779681\n",
    "Mt. Davidson Manor, 289695\n",
    "Monterey Heights, 333667\n",
    "Westwood Highlands, 185864\n",
    "Westwood Park, 718318\n",
    "Miraloma Park, 1223401\n",
    "Crocker Amazon, 1834895\n",
    "McLaren Park, 1730345\n",
    "Sunnydale, 475674\n",
    "Visitacion Valley, 1579119\n",
    "India Basin, 1028498\n",
    "Hunters Point, 3757633\n",
    "Candlestick Point SRA, 2009785\n",
    "Northern Waterfront, 728122\n",
    "Cayuga, 938958\n",
    "Oceanview, 1280145\n",
    "Apparel City, 467624\n",
    "Bernal Heights, 2186907\n",
    "Noe Valley, 1839016\n",
    "Produce Market, 1086990\n",
    "Bayview, 3265434\n",
    "Silver Terrace, 1304052\n",
    "Bret Harte, 1069454\n",
    "Little Hollywood, 560864\n",
    "Portola, 2385740\n",
    "University Mound, 726962\n",
    "St. Marys Park, 519616\n",
    "Mission Terrace, 1614676\n",
    "Excelsior, 2120210\n",
    "Sunnyside, 1460251\n",
    "Glen Park, 1136228\n",
    "Aquatic Park / Ft. Mason, 536736\n",
    "Fishermans Wharf, 839951\n",
    "Cathedral Hill, 622632\n",
    "Japantown, 370871\n",
    "Pacific Heights, 2268224\n",
    "Lower Pacific Heights, 769251\n",
    "Western Addition, 1201797\n",
    "Chinatown, 403662\n",
    "Nob Hill, 810649\n",
    "Lower Nob Hill, 546137\n",
    "Polk Gulch, 382432\n",
    "North Beach, 737700\n",
    "Russian Hill, 1200788\n",
    "Financial District, 1049942\n",
    "Inner Sunset, 1425791\n",
    "Parnassus Heights, 916689\n",
    "Forest Knolls, 569284\n",
    "Buena Vista, 861252\n",
    "Corona Heights, 360528\n",
    "Ashbury Heights, 435637\n",
    "Eureka Valley, 961785\n",
    "St. Francis Wood, 548679\n",
    "Sherwood Forest, 684025\"\"\"\n",
    "\n",
    "area_df = pd.DataFrame([x.split(',') for x in neighborhood_area.split('\\n')], columns=['neighborhood', 'area'])\n",
    "area_df['area'] = area_df.area.astype(int)\n",
    "area_df['miles'] = area_df.area/(5280*5280)"
   ]
  },
  {
   "cell_type": "code",
   "execution_count": null,
   "metadata": {
    "collapsed": false
   },
   "outputs": [],
   "source": [
    "# only count trees that don't have a bad condition\n",
    "density = fuf[~fuf.condition.isin(bad_condition)].groupby('neighborhood').size().reset_index().rename(columns={0:'tree_cnt'})\n",
    "density = pd.merge(density, area_df, on='neighborhood')\n",
    "density['density'] = density.apply(lambda x: x.tree_cnt/x.miles, axis=1)"
   ]
  },
  {
   "cell_type": "markdown",
   "metadata": {},
   "source": [
    "### Join"
   ]
  },
  {
   "cell_type": "code",
   "execution_count": null,
   "metadata": {
    "collapsed": false
   },
   "outputs": [],
   "source": [
    "m = pd.merge(diversity, density, on='neighborhood', how='left')\n",
    "m = pd.merge(m, condition, on='neighborhood', how='left')\n",
    "m = pd.merge(m, vacant, on='neighborhood', how='left')\n",
    "m = pd.merge(m, hardscape, on='neighborhood', how='left')"
   ]
  },
  {
   "cell_type": "code",
   "execution_count": null,
   "metadata": {
    "collapsed": false
   },
   "outputs": [],
   "source": [
    "m"
   ]
  },
  {
   "cell_type": "code",
   "execution_count": null,
   "metadata": {
    "collapsed": false
   },
   "outputs": [],
   "source": [
    "m = m.rename(columns ={'neighborhood':'Neighborhood',\n",
    "              'not_diverse':'Diversity', \n",
    "              'condition_score':'Condition', \n",
    "              'vacant_lot_metric':'Vacancies', \n",
    "              'hardscape_metric':'Sidewalk Damage',\n",
    "              'density':'Density',\n",
    "              'condition_lable':'Condition Label'})\n",
    "\n",
    "m = m[['Neighborhood', 'Density', 'Diversity', 'Condition', 'Condition Label', 'Vacancies', 'Sidewalk Damage']]\n",
    "m = m[~m.Density.isnull()]"
   ]
  },
  {
   "cell_type": "code",
   "execution_count": null,
   "metadata": {
    "collapsed": false
   },
   "outputs": [],
   "source": [
    "m.to_csv(\"neighborhood_map_metrics.csv\")\n",
    "m"
   ]
  },
  {
   "cell_type": "code",
   "execution_count": null,
   "metadata": {
    "collapsed": false
   },
   "outputs": [],
   "source": [
    "# Scale metrics from 0-10 for display purposes\n",
    "from sklearn.preprocessing import MinMaxScaler\n",
    "scaler = MinMaxScaler()\n",
    "\n",
    "scale_df = m[['Density', 'Diversity', 'Condition', 'Vacancies', 'Sidewalk Damage']]\n",
    "scale_df = pd.DataFrame(scaler.fit_transform(scale_df), columns=scale_df.columns)*10\n",
    "scale_df = scale_df.round()"
   ]
  },
  {
   "cell_type": "code",
   "execution_count": null,
   "metadata": {
    "collapsed": false
   },
   "outputs": [],
   "source": [
    "scale_df['Neighborhood'] = m.Neighborhood"
   ]
  },
  {
   "cell_type": "code",
   "execution_count": null,
   "metadata": {
    "collapsed": false
   },
   "outputs": [],
   "source": [
    "scale_df.to_csv(\"neighborhood_map_metrics_normed.csv\")"
   ]
  },
  {
   "cell_type": "code",
   "execution_count": null,
   "metadata": {
    "collapsed": false
   },
   "outputs": [],
   "source": [
    "scale_df"
   ]
  },
  {
   "cell_type": "code",
   "execution_count": null,
   "metadata": {
    "collapsed": true
   },
   "outputs": [],
   "source": []
  }
 ],
 "metadata": {
  "kernelspec": {
   "display_name": "Python 2",
   "language": "python",
   "name": "python2"
  },
  "language_info": {
   "codemirror_mode": {
    "name": "ipython",
    "version": 2
   },
   "file_extension": ".py",
   "mimetype": "text/x-python",
   "name": "python",
   "nbconvert_exporter": "python",
   "pygments_lexer": "ipython2",
   "version": "2.7.12"
  }
 },
 "nbformat": 4,
 "nbformat_minor": 0
}
