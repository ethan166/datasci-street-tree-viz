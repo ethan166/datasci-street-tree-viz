{
 "cells": [
  {
   "cell_type": "markdown",
   "metadata": {},
   "source": [
    "# Street Tree Data\n",
    "---\n",
    "\n",
    "Preliminary peek at tree data"
   ]
  },
  {
   "cell_type": "markdown",
   "metadata": {},
   "source": [
    "## Load the Data\n",
    "We'll load from the web if the file isn't available locally"
   ]
  },
  {
   "cell_type": "code",
   "execution_count": 2,
   "metadata": {
    "collapsed": false
   },
   "outputs": [],
   "source": [
    "import pandas as pd\n",
    "import os\n",
    "import urllib\n",
    "\n",
    "FILE_PATH = 'Street_Tree_List.csv'\n",
    "DATA_SOURCE_URL = 'https://data.sfgov.org/api/views/tkzw-k3nq/rows.csv?accessType=DOWNLOAD'\n",
    "\n",
    "# Load from interwebs\n",
    "if not os.path.isfile(FILE_PATH):\n",
    "    urllib.urlretrieve (DATA_SOURCE_URL, FILE_PATH)\n",
    "    \n",
    "trees_df = pd.read_csv(FILE_PATH)"
   ]
  },
  {
   "cell_type": "markdown",
   "metadata": {},
   "source": [
    "## First Peek\n",
    "\n",
    "What data types and quantities do we have?"
   ]
  },
  {
   "cell_type": "code",
   "execution_count": 3,
   "metadata": {
    "collapsed": false
   },
   "outputs": [
    {
     "data": {
      "text/plain": [
       "Index([u'TreeID', u'qLegalStatus', u'qSpecies', u'qAddress', u'SiteOrder',\n",
       "       u'qSiteInfo', u'PlantType', u'qCaretaker', u'qCareAssistant',\n",
       "       u'PlantDate', u'DBH', u'PlotSize', u'PermitNotes', u'XCoord', u'YCoord',\n",
       "       u'Latitude', u'Longitude', u'Location'],\n",
       "      dtype='object')"
      ]
     },
     "metadata": {},
     "output_type": "display_data"
    }
   ],
   "source": [
    "from IPython.display import display\n",
    "\n",
    "display(trees_df.columns)"
   ]
  },
  {
   "cell_type": "code",
   "execution_count": null,
   "metadata": {
    "collapsed": true
   },
   "outputs": [],
   "source": []
  }
 ],
 "metadata": {
  "kernelspec": {
   "display_name": "Python 2",
   "language": "python",
   "name": "python2"
  },
  "language_info": {
   "codemirror_mode": {
    "name": "ipython",
    "version": 2
   },
   "file_extension": ".py",
   "mimetype": "text/x-python",
   "name": "python",
   "nbconvert_exporter": "python",
   "pygments_lexer": "ipython2",
   "version": "2.7.10"
  }
 },
 "nbformat": 4,
 "nbformat_minor": 0
}
